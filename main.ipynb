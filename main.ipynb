{
 "cells": [
  {
   "cell_type": "code",
   "execution_count": 5,
   "metadata": {},
   "outputs": [],
   "source": [
    "import numpy as np\n",
    "import pandas as pd\n",
    "import matplotlib.pyplot as plt\n",
    "from sklearn.model_selection import train_test_split\n",
    "from sklearn.ensemble import RandomForestClassifier\n",
    "from sklearn.metrics import accuracy_score, classification_report\n",
    "\n",
    "\n"
   ]
  },
  {
   "cell_type": "code",
   "execution_count": 6,
   "metadata": {},
   "outputs": [
    {
     "name": "stdout",
     "output_type": "stream",
     "text": [
      "Dataset Columns: Index(['patientid', 'offset', 'sex', 'age', 'finding', 'RT_PCR_positive',\n",
      "       'survival', 'intubated', 'intubation_present', 'went_icu', 'in_icu',\n",
      "       'needed_supplemental_O2', 'extubated', 'temperature', 'pO2_saturation',\n",
      "       'leukocyte_count', 'neutrophil_count', 'lymphocyte_count', 'view',\n",
      "       'modality', 'date', 'location', 'folder', 'filename', 'doi', 'url',\n",
      "       'license', 'clinical_notes', 'other_notes', 'Unnamed: 29'],\n",
      "      dtype='object')\n"
     ]
    }
   ],
   "source": [
    "df = pd.read_csv(r'D:\\AICTE INTERNSHIP 1\\metadata.csv')  # Replace with actual dataset path\n",
    "\n",
    "# Debugging: Print column names to verify 'outbreak' exists\n",
    "print(\"Dataset Columns:\", df.columns)\n",
    "\n"
   ]
  },
  {
   "cell_type": "code",
   "execution_count": 7,
   "metadata": {},
   "outputs": [
    {
     "name": "stdout",
     "output_type": "stream",
     "text": [
      "Available Columns After Preprocessing: Index(['patientid', 'offset', 'sex', 'age', 'finding', 'RT_PCR_positive',\n",
      "       'survival', 'intubated', 'intubation_present', 'went_icu', 'in_icu',\n",
      "       'needed_supplemental_O2', 'extubated', 'temperature', 'pO2_saturation',\n",
      "       'leukocyte_count', 'neutrophil_count', 'lymphocyte_count', 'view',\n",
      "       'modality', 'date', 'location', 'folder', 'filename', 'doi', 'url',\n",
      "       'license', 'clinical_notes', 'other_notes', 'Unnamed: 29'],\n",
      "      dtype='object')\n"
     ]
    }
   ],
   "source": [
    "print(\"Available Columns After Preprocessing:\", df.columns)\n"
   ]
  },
  {
   "cell_type": "code",
   "execution_count": 8,
   "metadata": {},
   "outputs": [],
   "source": [
    "if 'RT_PCR_positive' not in df.columns:\n",
    "    raise KeyError(\"Column 'RT_PCR_positive' not found in dataset. Check your CSV file.\")\n",
    "\n",
    "# Data Preprocessing\n",
    "# Fill missing numerical values with median\n",
    "df.fillna(df.median(numeric_only=True), inplace=True)\n",
    "\n",
    "# Fill missing categorical values with the most frequent value\n",
    "categorical_cols = df.select_dtypes(include=['object']).columns\n",
    "for col in categorical_cols:\n",
    "    df[col] = df[col].fillna(df[col].mode()[0])\n",
    "\n",
    "# Encode categorical variables if any, except 'RT_PCR_positive'\n",
    "categorical_cols = [col for col in categorical_cols if col != 'RT_PCR_positive']\n",
    "df = pd.get_dummies(df, columns=categorical_cols, drop_first=True)\n",
    "\n",
    "# Ensure 'RT_PCR_positive' still exists after encoding\n",
    "if 'RT_PCR_positive' not in df.columns:\n",
    "    raise KeyError(\"Column 'RT_PCR_positive' was removed during preprocessing. Check categorical encoding.\")\n",
    "\n",
    "# Verify no NaN values remain\n",
    "if df.isnull().sum().sum() > 0:\n",
    "    raise ValueError(\"Dataset still contains NaN values after preprocessing. Check missing data handling.\")\n"
   ]
  },
  {
   "cell_type": "code",
   "execution_count": 9,
   "metadata": {},
   "outputs": [
    {
     "name": "stdout",
     "output_type": "stream",
     "text": [
      "Random Forest Accuracy: 0.9315789473684211\n",
      "              precision    recall  f1-score   support\n",
      "\n",
      "     Unclear       1.00      0.73      0.84        48\n",
      "           Y       0.92      1.00      0.96       142\n",
      "\n",
      "    accuracy                           0.93       190\n",
      "   macro avg       0.96      0.86      0.90       190\n",
      "weighted avg       0.94      0.93      0.93       190\n",
      "\n"
     ]
    }
   ],
   "source": [
    "X = df.drop(columns=['RT_PCR_positive'])  # Ensure 'RT_PCR_positive' is the target column\n",
    "y = df['RT_PCR_positive']\n",
    "X_train, X_test, y_train, y_test = train_test_split(X, y, test_size=0.2, random_state=42)\n",
    "\n",
    "# Train Random Forest Classifier\n",
    "rf_model = RandomForestClassifier(n_estimators=100, random_state=42)\n",
    "rf_model.fit(X_train, y_train)\n",
    "y_pred = rf_model.predict(X_test)\n",
    "\n",
    "# Evaluate Model\n",
    "print(\"Random Forest Accuracy:\", accuracy_score(y_test, y_pred))\n",
    "print(classification_report(y_test, y_pred))\n"
   ]
  },
  {
   "cell_type": "code",
   "execution_count": 10,
   "metadata": {},
   "outputs": [
    {
     "name": "stdout",
     "output_type": "stream",
     "text": [
      "Index(['offset', 'age', 'RT_PCR_positive', 'temperature', 'pO2_saturation',\n",
      "       'leukocyte_count', 'neutrophil_count', 'lymphocyte_count',\n",
      "       'patientid_100', 'patientid_101',\n",
      "       ...\n",
      "       'other_notes_Credit to Zhe Xu *, Lei Shi *, Yijin Wang *, Jiyuan Zhang, Lei Huang, Chao Zhang, Shuhong Liu, Peng Zhao, Hongxia Liu, Li Zhu, Yanhong Tai, Changqing Bai, Tingting Gao, Jinwen Song, Peng Xia, Jinghui Dong , Jingmin Zhao, Fu-Sheng Wang',\n",
      "       'other_notes_Image originally shared on Figure 1.',\n",
      "       'other_notes_Since January 2020 Elsevier has created a COVID-19 resource centre with free information in English and Mandarin on the novel coronavirus COVID-19. The COVID-19 resource centre is hosted on Elsevier Connect, the company's public news and information website. Elsevier hereby grants permission to make all its COVID-19-related research that is available on the COVID-19 resource centre - including this research content - immediately available in PubMed Central and other publicly funded repositories, such as the WHO COVID database with rights for unrestricted research re-use and analyses in any form or by any means with acknowledgement of the original source. These permissions are granted for free by Elsevier for as long as the COVID-19 resource centre remains active.',\n",
      "       'other_notes_This article is made available via the PMC Open Access Subset for unrestricted re-use and analyses in any form or by any means with acknowledgement of the original source. These permissions are granted for the duration of the COVID-19 pandemic or until permissions are revoked in writing. Upon expiration of these permissions, PMC is granted a perpetual license to make this article available via PMC and Europe PMC, consistent with existing copyright protections.',\n",
      "       'other_notes_This article is published and distributed under the terms of the Oxford University Press, Standard Journals Publication Model (https://academic.oup.com/journals/pages/open_access/funder_policies/chorus/standard_publication_model) This article is made available via the PMC Open Access Subset for unrestricted re-use and analyses in any form or by any means with acknowledgement of the original source. These permissions are granted for the duration of the COVID-19 pandemic or until permissions are revoked in writing. Upon expiration of these permissions, PMC is granted a perpetual license to make this article available via PMC and Europe PMC, consistent with existing copyright protections.',\n",
      "       'other_notes_© Department of Radiology and Interventional Therapy, Vivantes Klinikum Neukölln, Berlin, Germany, 2020',\n",
      "       'Unnamed: 29_ frontal projection 18 days after admission showing partial regression of bilateral multifocal pulmonary opacities.',\n",
      "       'Unnamed: 29_ frontal projection at day of presentation showing left lower zonal pleural based peripheral opacity.',\n",
      "       'Unnamed: 29_ frontal projection at day of presentation showing small left paracardiac possible infiltrate.',\n",
      "       'Unnamed: 29_ frontal projection three days after admission showing progression of left lung opacity with extension into the left mid-zone and subtle right paracardiac opacity.'],\n",
      "      dtype='object', length=2936)\n"
     ]
    }
   ],
   "source": [
    "print(df.columns)\n"
   ]
  },
  {
   "cell_type": "code",
   "execution_count": 11,
   "metadata": {},
   "outputs": [],
   "source": [
    "df = df.loc[:, ~df.columns.str.contains('^Unnamed')]"
   ]
  },
  {
   "cell_type": "code",
   "execution_count": 12,
   "metadata": {},
   "outputs": [],
   "source": [
    "# Debugging: Print missing values before raising an error\n",
    "missing_values = df.isnull().sum()\n",
    "if missing_values.sum() > 0:\n",
    "    print(\"Columns with missing values:\\n\", missing_values[missing_values > 0])\n",
    "    raise ValueError(\"Dataset still contains NaN values after preprocessing.\")\n"
   ]
  },
  {
   "cell_type": "code",
   "execution_count": 13,
   "metadata": {},
   "outputs": [],
   "source": [
    "X = df.drop(columns=['RT_PCR_positive'])  # Ensure 'RT_PCR_positive' is the target column\n",
    "y = df['RT_PCR_positive']\n",
    "X_train, X_test, y_train, y_test = train_test_split(X, y, test_size=0.2, random_state=42)\n"
   ]
  },
  {
   "cell_type": "code",
   "execution_count": 14,
   "metadata": {},
   "outputs": [],
   "source": [
    "rf_model = RandomForestClassifier(n_estimators=100, random_state=42)\n",
    "rf_model.fit(X_train, y_train)\n",
    "y_pred = rf_model.predict(X_test)\n"
   ]
  },
  {
   "cell_type": "code",
   "execution_count": 15,
   "metadata": {},
   "outputs": [
    {
     "name": "stdout",
     "output_type": "stream",
     "text": [
      "Random Forest Accuracy: 0.9421052631578948\n",
      "              precision    recall  f1-score   support\n",
      "\n",
      "     Unclear       1.00      0.77      0.87        48\n",
      "           Y       0.93      1.00      0.96       142\n",
      "\n",
      "    accuracy                           0.94       190\n",
      "   macro avg       0.96      0.89      0.92       190\n",
      "weighted avg       0.95      0.94      0.94       190\n",
      "\n"
     ]
    }
   ],
   "source": [
    "print(\"Random Forest Accuracy:\", accuracy_score(y_test, y_pred))\n",
    "print(classification_report(y_test, y_pred))"
   ]
  },
  {
   "cell_type": "code",
   "execution_count": 16,
   "metadata": {},
   "outputs": [],
   "source": [
    "time_steps = 30  # Using last 30 days data for prediction\n",
    "\n",
    "# Adjust dataset size to be a multiple of time_steps\n",
    "adjusted_size = (len(df) // time_steps) * time_steps\n",
    "df = df.iloc[:adjusted_size]\n",
    "\n",
    "X_lstm = df[['lymphocyte_count', 'age', 'temperature', 'leukocyte_count']].values\n",
    "X_lstm = X_lstm.reshape((len(X_lstm) // time_steps, time_steps, 4))\n",
    "y_lstm = df['RT_PCR_positive'].values.reshape((len(df) // time_steps, time_steps, 1))\n",
    "\n",
    "# Split into training and testing sets\n",
    "X_train_lstm, X_test_lstm, y_train_lstm, y_test_lstm = train_test_split(X_lstm, y_lstm, test_size=0.2, random_state=42)\n",
    "\n",
    "# Simple Moving Average Model for Time-Series Prediction\n",
    "predictions = np.mean(X_test_lstm, axis=1)[:, -1]"
   ]
  },
  {
   "cell_type": "code",
   "execution_count": 17,
   "metadata": {},
   "outputs": [],
   "source": [
    "y_test_lstm_flat = y_test_lstm[:, -1].flatten()\n",
    "predictions_flat = predictions.flatten()\n"
   ]
  },
  {
   "cell_type": "code",
   "execution_count": 18,
   "metadata": {},
   "outputs": [
    {
     "data": {
      "image/png": "[encoded data removed]",
      "text/plain": [
       "<Figure size 640x480 with 1 Axes>"
      ]
     },
     "metadata": {},
     "output_type": "display_data"
    }
   ],
   "source": [
    "# Plot Actual vs Predicted Cases\n",
    "plt.plot(y_test_lstm_flat, label='Actual Cases')\n",
    "plt.plot(predictions_flat, label='Predicted Cases')\n",
    "plt.legend()\n",
    "plt.show()\n"
   ]
  },
  {
   "cell_type": "code",
   "execution_count": null,
   "metadata": {},
   "outputs": [],
   "source": []
  },
  {
   "cell_type": "code",
   "execution_count": null,
   "metadata": {},
   "outputs": [],
   "source": []
  },
  {
   "cell_type": "code",
   "execution_count": null,
   "metadata": {},
   "outputs": [],
   "source": []
  }
 ],
 "metadata": {
  "kernelspec": {
   "display_name": "Python 3",
   "language": "python",
   "name": "python3"
  },
  "language_info": {
   "codemirror_mode": {
    "name": "ipython",
    "version": 3
   },
   "file_extension": ".py",
   "mimetype": "text/x-python",
   "name": "python",
   "nbconvert_exporter": "python",
   "pygments_lexer": "ipython3",
   "version": "3.13.1"
  }
 },
 "nbformat": 4,
 "nbformat_minor": 2
}
